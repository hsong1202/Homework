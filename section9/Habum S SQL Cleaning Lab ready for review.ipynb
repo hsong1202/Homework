{
 "cells": [
  {
   "attachments": {},
   "cell_type": "markdown",
   "metadata": {},
   "source": [
    "# Section 1\n",
    "\n",
    "- If you look at the column `Accel` you can see that each value has the ' sec' suffix on the value. \n",
    "- This creates an issue becasue if you ever wanted to run a summary function like AVG() on the `Accel` values you would not be able to becasue the datatype would most likely be a string and not an acceptable type to run that function. \n",
    "- Our Job is to remove that suffix from the `Accel` column. We are also going to rename the column with the units in the column name to inform the person looking at the table what the column units are. \n",
    "<br>\n",
    "\n",
    "### - 1.1 Review the column that you are looking to change\n",
    "<br>\n",
    "\n",
    "```SQL\n",
    "\n",
    "SELECT columnname FROM tablename;\n",
    "\n",
    "```\n",
    "<br>\n"
   ]
  },
  {
   "attachments": {},
   "cell_type": "markdown",
   "metadata": {},
   "source": []
  },
  {
   "attachments": {},
   "cell_type": "markdown",
   "metadata": {},
   "source": [
    "\n",
    "### - 1.2 Selecting the correct string function\n",
    "\n",
    "- We would like to remove ' sec'  from each value in the `Accel` column. \n",
    "- Choose the appropriate string function from the string function list. There may be more then one way to accomplish this task. \n",
    "- Please place your queries in a .md file for review. Whatever you do not finish is considered HW. \n",
    "<br>\n",
    "\n",
    "```SQL\n",
    "\n",
    "Function(string, characterStringToBeRemoved)\n",
    "\n",
    "```\n",
    "<br>\n"
   ]
  },
  {
   "attachments": {},
   "cell_type": "markdown",
   "metadata": {},
   "source": [
    "\n",
    "### - 1.3 Visualizing the changes before making them \n",
    "\n",
    "- Use a select statement to visualize the original column and the changes that are made by the string function side by side in the result set. \n",
    "- Also take note of how many rows are returned in this select statement. (you can use the rowid on the far left of the result set---> scroll to the bottom number)\n",
    "- You will use this number to confirm you are changing the correct amount of rows in the next step. \n",
    "<br>\n",
    "\n",
    "```SQL\n",
    "SELECT column, stringfunctiongoeshere\n",
    "FROM tablename \n",
    "\n",
    "```\n",
    "<br>\n"
   ]
  },
  {
   "attachments": {},
   "cell_type": "markdown",
   "metadata": {},
   "source": [
    "\n",
    "### - 1.4 UPDATE the records \n",
    "\n",
    "- Write the update statement to set `Accel` to equal the return value of the string function that you chose to use in 1.2.\n",
    "\n",
    "<br>\n",
    "\n",
    "```SQL\n",
    "\n",
    "UPDATE tablename \n",
    "SET \n",
    "    columnname = stringfunction; \n",
    "\n",
    "```\n",
    "<br>\n"
   ]
  },
  {
   "attachments": {},
   "cell_type": "markdown",
   "metadata": {},
   "source": [
    "\n",
    "### - 1.5 Check your work\n",
    "- It is good practice to check over the rows that you changed. Write a select statement to look at the column again. (you can reuse the code you wrote above)\n",
    "<br>\n",
    "\n",
    "```SQL\n",
    "\n",
    "SELECT columnname FROM tablename;\n",
    "\n",
    "```\n",
    "<br>\n"
   ]
  },
  {
   "attachments": {},
   "cell_type": "markdown",
   "metadata": {},
   "source": [
    "\n",
    "### - 1.6 Rename the column\n",
    " - Rename the `Accel` column to `accelSec`\n",
    " <br>\n",
    "\n",
    "```SQL\n",
    "ALTER TABLE tablename \n",
    "RENAME columnname TO newColumnName\n",
    "```\n",
    "\n",
    "<br>\n"
   ]
  },
  {
   "attachments": {},
   "cell_type": "markdown",
   "metadata": {},
   "source": [
    "### - 2.1 Review the column that you are looking to change \n",
    "- Write a query to look at all the records in the `Topspeed` column.  \n",
    "<br>\n",
    "\n",
    "```SQL\n",
    "\n",
    "SELECT columnname FROM tablename;\n",
    "\n",
    "```\n",
    "<br>\n"
   ]
  },
  {
   "attachments": {},
   "cell_type": "markdown",
   "metadata": {},
   "source": [
    "\n",
    "### - 2.2 Selecting the correct String Function\n",
    "\n",
    "- We would like to remove 'km/h' from each value in the column `TopSpeed`. \n",
    "- Choose the appropriate string function from the string function list. There may be more then one way to accomplish this task.  \n",
    "\n",
    "```SQL\n",
    "\n",
    "FUNCTION(string, characterStringToBeRemoved)\n",
    "\n",
    "```\n"
   ]
  },
  {
   "attachments": {},
   "cell_type": "markdown",
   "metadata": {},
   "source": [
    "\n",
    "### - 2.3 Visualizing the Changes before making them \n",
    "\n",
    "- Use a select statement to visualize the original column, `TopSpeed` and the changes that are made by the string function side by side in the result set. \n",
    "- Take note of how many rows are returned in this SELECT statement. You will use this number to confirm you are changing the correct amount of rows later. \n",
    "\n",
    "```SQL\n",
    "SELECT column, stringfunctiongoeshere\n",
    "FROM tablename \n",
    "\n",
    "```\n"
   ]
  },
  {
   "attachments": {},
   "cell_type": "markdown",
   "metadata": {},
   "source": [
    "\n",
    "### - 2.4 UPDATE the records\n",
    "\n",
    "- Write the update statement to set `TopSpeed` to equal the return value of the string function you chose in 2.2\n",
    "<br>\n",
    "\n",
    "```SQL\n",
    "\n",
    "UPDATE tablename \n",
    "SET \n",
    "    columnname = stringfunction; \n",
    "\n",
    "```\n"
   ]
  },
  {
   "attachments": {},
   "cell_type": "markdown",
   "metadata": {},
   "source": [
    "\n",
    "### - 2.5 Check your work \n",
    "- Write a select statement to look at the column again. (you can reuse the code you wrote above in 2.1)\n",
    "<br>\n",
    "\n",
    "```SQL\n",
    "\n",
    "SELECT columnname FROM tablename;\n",
    "\n",
    "```\n"
   ]
  },
  {
   "attachments": {},
   "cell_type": "markdown",
   "metadata": {},
   "source": [
    "\n",
    "### - 2.6 Convert the units to MPH\n",
    "- Let's convert the `TopSpeed` from km/h to MPH\n",
    "- Write a select statement to multiply the speed by 0.621371. Return  original `Topspeed` and calculated `TopspeedMPH`. Round the answer to 1 decimal place . \n",
    "\n",
    "```SQL\n",
    "SELECT columnname, function(columnname * conversionRate, numberofdecimals)\n",
    "FROM tablename \n",
    "\n",
    "```\n",
    "- Write and executing the above query to see the original and the converted value side by side\n",
    "- Turn this query into an UPDATE statement\n",
    "\n",
    "```SQL\n",
    "\n",
    "UPDATE tablename \n",
    "SET \n",
    "    columnname = columnname * conversionRate \n",
    "\n",
    "```\n",
    "- use your query from 2.5 to check the column to make sure the changes are what yoiu expected. \n"
   ]
  },
  {
   "attachments": {},
   "cell_type": "markdown",
   "metadata": {},
   "source": [
    "\n",
    "### - 2.7 Rename the column\n",
    " - Rename the `TopSpeed` column to `topSpeedMPH`\n",
    " <br>\n",
    "\n",
    "```SQL\n",
    "ALTER TABLE tablename \n",
    "RENAME columnname TO newColumnName\n",
    "\n",
    "```\n",
    "<br>\n"
   ]
  },
  {
   "attachments": {},
   "cell_type": "markdown",
   "metadata": {},
   "source": [
    "\n",
    "### - 2.8  Select All of the records to get a look at the whole table with your recent changes. \n",
    "```SQL\n",
    "SELECT * \n",
    "FROM tablename \n",
    "\n",
    "```\n",
    "\n",
    "<br>\n"
   ]
  },
  {
   "attachments": {},
   "cell_type": "markdown",
   "metadata": {},
   "source": [
    "\n",
    "### - 3.1 Review the column that you are looking to change \n",
    "```SQL\n",
    "\n",
    "\n",
    "```\n",
    "\n",
    "<br>\n"
   ]
  },
  {
   "attachments": {},
   "cell_type": "markdown",
   "metadata": {},
   "source": [
    "\n",
    "\n",
    "### - 3.2 Selecting the correct String Function\n",
    "```SQL\n",
    "\n",
    "\n",
    "```\n",
    "\n",
    "<br>\n"
   ]
  },
  {
   "attachments": {},
   "cell_type": "markdown",
   "metadata": {},
   "source": [
    "\n",
    "### - 3.3 Visualizing the Changes before making them \n",
    "\n",
    "```SQL\n",
    "\n",
    "\n",
    "```\n",
    "\n",
    "<br>\n"
   ]
  },
  {
   "attachments": {},
   "cell_type": "markdown",
   "metadata": {},
   "source": [
    "\n",
    "### - 3.4 UPDATE the records\n",
    "\n",
    "```SQL\n",
    "\n",
    "\n",
    "```\n",
    "\n",
    "<br>\n"
   ]
  },
  {
   "attachments": {},
   "cell_type": "markdown",
   "metadata": {},
   "source": [
    "\n",
    "### - 3.5 Check your work \n",
    "```SQL\n",
    "\n",
    "\n",
    "```\n",
    "\n",
    "<br>\n"
   ]
  },
  {
   "attachments": {},
   "cell_type": "markdown",
   "metadata": {},
   "source": [
    "\n",
    "### - 3.6 Convert the units to MPH\n",
    "```SQL\n",
    "\n",
    "\n",
    "```\n",
    "\n",
    "<br>\n"
   ]
  },
  {
   "attachments": {},
   "cell_type": "markdown",
   "metadata": {},
   "source": [
    "\n",
    "### - 3.7 Rename the column\n",
    "```SQL\n",
    "\n",
    "\n",
    "```\n",
    "\n",
    "<br>\n"
   ]
  },
  {
   "attachments": {},
   "cell_type": "markdown",
   "metadata": {},
   "source": [
    "\n",
    "### - 3.8  Select All of the records to get a look at the whole table with your recent changes. \n",
    "```SQL\n",
    "\n",
    "\n",
    "```\n",
    "\n",
    "<br>\n"
   ]
  },
  {
   "attachments": {},
   "cell_type": "markdown",
   "metadata": {},
   "source": [
    "\n",
    "### - 4.1 Write a select statement to review both of the columns that you are looking to change \n",
    "\n",
    "```SQL\n",
    "\n",
    "\n",
    "```\n",
    "\n",
    "<br>\n"
   ]
  },
  {
   "attachments": {},
   "cell_type": "markdown",
   "metadata": {},
   "source": [
    "\n",
    "### - 4.2 Selecting the correct String Function that we need to remove for each column.\n",
    "```SQL\n",
    "\n",
    "\n",
    "```\n",
    "\n",
    "<br>\n"
   ]
  },
  {
   "attachments": {},
   "cell_type": "markdown",
   "metadata": {},
   "source": [
    "\n",
    "### - 4.3 Visualizing the Changes before making them \n",
    "```SQL\n",
    "\n",
    "\n",
    "```\n",
    "\n",
    "<br>\n"
   ]
  },
  {
   "attachments": {},
   "cell_type": "markdown",
   "metadata": {},
   "source": [
    "\n",
    "### - 4.4 UPDATE the records\n",
    "\n",
    "\n",
    "```SQL\n",
    "UPDATE tablename \n",
    "SET \n",
    "columnname1 = STRINGFUNCTION(string, characterStringToBeRemoved), \n",
    "columnname2 = STRINGFUNCTION(string, characterStringToBeRemoved); \n",
    "``` \n",
    "<br>\n"
   ]
  },
  {
   "attachments": {},
   "cell_type": "markdown",
   "metadata": {},
   "source": [
    "\n",
    "### - 4.5 Check your work \n",
    "```SQL\n",
    "\n",
    "\n",
    "```\n",
    "\n",
    "<br>\n"
   ]
  },
  {
   "attachments": {},
   "cell_type": "markdown",
   "metadata": {},
   "source": [
    "\n",
    "### - 4.6 Convert the `FastCharge` units to MPH\n",
    "```SQL\n",
    "\n",
    "\n",
    "```\n",
    "\n",
    "<br>\n"
   ]
  },
  {
   "attachments": {},
   "cell_type": "markdown",
   "metadata": {},
   "source": [
    "\n",
    "### - 4.7 Rename the column\n",
    "```SQL\n",
    "\n",
    "\n",
    "```\n",
    "\n",
    "<br>\n"
   ]
  },
  {
   "attachments": {},
   "cell_type": "markdown",
   "metadata": {},
   "source": [
    "\n",
    "### - 4.8 Select All of the records to get a look at the whole table with your recent changes. \n",
    "\n",
    "```SQL\n",
    "\n",
    "\n",
    "```\n",
    "\n",
    "<br>\n",
    "\n"
   ]
  },
  {
   "attachments": {},
   "cell_type": "markdown",
   "metadata": {},
   "source": [
    "\n",
    "### - 5.1 Working with `RapidCharge`\n",
    "\n",
    "```SQL\n",
    "SELECT columnname, Count(*)\n",
    "FROM tablenmame\n",
    "GROUP BY columnname\n",
    "```\n",
    "<br>\n"
   ]
  },
  {
   "attachments": {},
   "cell_type": "markdown",
   "metadata": {},
   "source": [
    "\n",
    "### - 5.2 making data cleaning choices \n",
    "```SQL\n",
    "\n",
    "\n",
    "```\n",
    "\n",
    "<br>\n"
   ]
  },
  {
   "attachments": {},
   "cell_type": "markdown",
   "metadata": {},
   "source": [
    "\n",
    "### - 5.3 Please fill in the blank on your .md answer sheet\n",
    "```SQL\n",
    "\n",
    "\n",
    "```\n",
    "\n",
    "<br>\n"
   ]
  },
  {
   "attachments": {},
   "cell_type": "markdown",
   "metadata": {},
   "source": [
    "\n",
    "### - 5.4 Writing the update Statements  \n",
    "- use this syntax reminder to help guide your update statement writing\n",
    "- you are going to write two update statements, one for each of the conditions described above. \n",
    "<br>\n",
    "\n",
    "```SQL\n",
    "UPDATE tablename\n",
    "SET Columnname = string \n",
    "WHERE Condition \n",
    "\n",
    "```\n",
    "<br>\n"
   ]
  },
  {
   "attachments": {},
   "cell_type": "markdown",
   "metadata": {},
   "source": [
    "\n",
    "\n",
    "### -6.1 Visualize the `Powertrain` records\n",
    "```SQL\n",
    "\n",
    "\n",
    "```\n",
    "\n",
    "<br>\n"
   ]
  },
  {
   "attachments": {},
   "cell_type": "markdown",
   "metadata": {},
   "source": [
    "\n",
    "### - 6.2 Please fill in the blank on your .md answer sheet\n",
    "```SQL\n",
    "\n",
    "\n",
    "```\n",
    "\n",
    "<br>\n"
   ]
  },
  {
   "attachments": {},
   "cell_type": "markdown",
   "metadata": {},
   "source": [
    "\n",
    "### - 6.3 Write three update statements for the three different conditions \n",
    "\n",
    "```SQL\n",
    "\n",
    "\n",
    "```\n",
    "\n",
    "<br>\n"
   ]
  },
  {
   "attachments": {},
   "cell_type": "markdown",
   "metadata": {},
   "source": [
    "\n",
    "### - 6.4 Write a query to Select all of the records to view your changes. \n",
    "```SQL\n",
    "\n",
    "\n",
    "```\n",
    "\n",
    "<br>\n"
   ]
  },
  {
   "attachments": {},
   "cell_type": "markdown",
   "metadata": {},
   "source": [
    "\n",
    "### - 7.1 Convert the `PriceEuro` to `PriceUSD` \n",
    "```SQL\n",
    "\n",
    "\n",
    "```\n",
    "\n",
    "<br>\n"
   ]
  },
  {
   "attachments": {},
   "cell_type": "markdown",
   "metadata": {},
   "source": [
    "\n",
    "### - 7.2 Write the Update Statements \n",
    "```SQL\n",
    "\n",
    "\n",
    "```\n",
    "\n",
    "<br>\n"
   ]
  },
  {
   "attachments": {},
   "cell_type": "markdown",
   "metadata": {},
   "source": [
    "\n",
    "### - 7.3 Rename the Column\n",
    "- Rename `PriceEuro to PriceUSD`\n",
    "```SQL\n",
    "\n",
    "\n",
    "```\n",
    "\n",
    "<br>\n",
    "\n",
    "\n",
    "\n",
    "\n",
    "\n",
    "\n",
    "\n",
    "\n",
    "\n",
    "\n"
   ]
  },
  {
   "attachments": {},
   "cell_type": "markdown",
   "metadata": {},
   "source": []
  }
 ],
 "metadata": {
  "kernelspec": {
   "display_name": "Python 3",
   "language": "python",
   "name": "python3"
  },
  "language_info": {
   "name": "python",
   "version": "3.11.3"
  },
  "orig_nbformat": 4
 },
 "nbformat": 4,
 "nbformat_minor": 2
}
