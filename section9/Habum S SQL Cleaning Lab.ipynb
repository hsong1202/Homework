{
 "cells": [
  {
   "attachments": {},
   "cell_type": "markdown",
   "metadata": {},
   "source": [
    "### - 1.1 Review the column that you are looking to change\n",
    "<br>\n",
    "\n",
    "```SQL\n",
    "\n",
    "SELECT Accel\n",
    "FROM evCars;\n",
    "\n",
    "```\n",
    "<br>\n"
   ]
  },
  {
   "attachments": {},
   "cell_type": "markdown",
   "metadata": {},
   "source": [
    "\n",
    "### - 1.2 Selecting the correct string function\n",
    "\n",
    "<br>\n",
    "\n",
    "```SQL\n",
    "RTRIM(Accel, 'sec')\n",
    "\n",
    "```\n",
    "<br>\n"
   ]
  },
  {
   "attachments": {},
   "cell_type": "markdown",
   "metadata": {},
   "source": [
    "### - 1.3 Visualizing the changes before making them \n",
    "\n",
    "```SQL\n",
    "SELECT Accel, RTRIM(Accel, 'sec')\n",
    "FROM evCars\n",
    "\n",
    "```\n",
    "<br>\n"
   ]
  },
  {
   "attachments": {},
   "cell_type": "markdown",
   "metadata": {},
   "source": [
    "### - 1.4 UPDATE the records \n",
    "```SQL\n",
    "\n",
    "Update evCars\n",
    "SET Accel = RTRIM(Accel, 'sec')\n",
    "\n",
    "\n",
    "```\n",
    "<br>\n"
   ]
  },
  {
   "attachments": {},
   "cell_type": "markdown",
   "metadata": {},
   "source": [
    "### - 1.5 Check your work\n",
    "```SQL\n",
    "SELECT Accel\n",
    "FROM evCars\n",
    "```\n",
    "<br>\n"
   ]
  },
  {
   "attachments": {},
   "cell_type": "markdown",
   "metadata": {},
   "source": [
    "\n",
    "### - 1.6 Rename the column\n",
    "\n",
    "```SQL\n",
    "Alter TABLE evCars\n",
    "RENAME Accel TO accelSec\n",
    "```\n",
    "\n",
    "<br>\n"
   ]
  },
  {
   "attachments": {},
   "cell_type": "markdown",
   "metadata": {},
   "source": [
    "### - 2.1 Review the column that you are looking to change \n",
    "\n",
    "```SQL\n",
    "\n",
    "SELECT TopSpeed\n",
    "FROM evcars\n",
    "\n",
    "```\n",
    "<br>\n"
   ]
  },
  {
   "attachments": {},
   "cell_type": "markdown",
   "metadata": {},
   "source": [
    "\n",
    "### - 2.2 Selecting the correct String Function\n",
    "\n",
    "```SQL\n",
    "\n",
    "SELECT RTRIM(TopSpeed, 'km/h')\n",
    "\n",
    "```\n"
   ]
  },
  {
   "attachments": {},
   "cell_type": "markdown",
   "metadata": {},
   "source": [
    "\n",
    "### - 2.3 Visualizing the Changes before making them \n",
    "\n",
    "```SQL\n",
    "SELECT RTRIM(TopSpeed, 'km/h'), TopSpeed\n",
    "FROM evcars;\n",
    "\n",
    "\n",
    "```\n"
   ]
  },
  {
   "attachments": {},
   "cell_type": "markdown",
   "metadata": {},
   "source": [
    "\n",
    "### - 2.4 UPDATE the records\n",
    "\n",
    "```SQL\n",
    "\n",
    "Update evCars\n",
    "SET TopSpeed = RTRIM(TopSpeed, 'km/h')\n",
    "\n",
    "```\n"
   ]
  },
  {
   "attachments": {},
   "cell_type": "markdown",
   "metadata": {},
   "source": [
    "\n",
    "### - 2.5 Check your work \n",
    "- Write a select statement to look at the column again. (you can reuse the code you wrote above in 2.1)\n",
    "<br>\n",
    "\n",
    "```SQL\n",
    "\n",
    "SELECT TopSpeed\n",
    "FROM evCars\n",
    "\n",
    "```\n"
   ]
  },
  {
   "attachments": {},
   "cell_type": "markdown",
   "metadata": {},
   "source": [
    "\n",
    "### - 2.6 Convert the units to MPH\n",
    "\n",
    "```SQL\n",
    "SELECT TopSpeed, ROUND(TopSpeed * 0.621371,  2)\n",
    "FROM evCars\n",
    "```\n",
    "\n",
    "<br>\n",
    "\n",
    "```SQL\n",
    "\n",
    "UPDATE evCars\n",
    "SET TopSpeed = TopSpeed * 0.621371\n",
    "\n",
    "```"
   ]
  },
  {
   "attachments": {},
   "cell_type": "markdown",
   "metadata": {},
   "source": [
    "\n",
    "### - 2.7 Rename the column\n",
    "\n",
    "```SQL\n",
    "ALTER TABLE evCars\n",
    "RENAME TopSpeed to topSpeedMPH\n",
    "\n",
    "```\n",
    "<br>\n"
   ]
  },
  {
   "attachments": {},
   "cell_type": "markdown",
   "metadata": {},
   "source": [
    "\n",
    "### - 2.8  Select All of the records to get a look at the whole table with your recent changes. \n",
    "```SQL\n",
    "\n",
    "SELECT * \n",
    "FROM evCars\n",
    "\n",
    "```\n",
    "\n",
    "<br>\n"
   ]
  },
  {
   "attachments": {},
   "cell_type": "markdown",
   "metadata": {},
   "source": [
    "### - 3.1 Review the column that you are looking to change \n",
    "```SQL\n",
    "\n",
    "SELECT Range\n",
    "FROM evCars\n",
    "\n",
    "```\n",
    "\n",
    "<br>\n"
   ]
  },
  {
   "attachments": {},
   "cell_type": "markdown",
   "metadata": {},
   "source": [
    "\n",
    "\n",
    "### - 3.2 Selecting the correct String Function\n",
    "```SQL\n",
    "SELECT RTRIM(Range, 'km')\n",
    "\n",
    "```\n",
    "\n",
    "<br>\n"
   ]
  },
  {
   "attachments": {},
   "cell_type": "markdown",
   "metadata": {},
   "source": [
    "\n",
    "### - 3.3 Visualizing the Changes before making them \n",
    "\n",
    "```SQL\n",
    "\n",
    "SELECT RTRIM(Range, 'km'), Range\n",
    "FROM evCars\n",
    "```\n",
    "\n",
    "<br>\n"
   ]
  },
  {
   "attachments": {},
   "cell_type": "markdown",
   "metadata": {},
   "source": [
    "\n",
    "### - 3.4 UPDATE the records\n",
    "\n",
    "```SQL\n",
    "UPDATE evCars\n",
    "SET Range = RTRIM(Range, 'km')\n",
    "\n",
    "\n",
    "```\n",
    "\n",
    "<br>\n"
   ]
  },
  {
   "attachments": {},
   "cell_type": "markdown",
   "metadata": {},
   "source": [
    "\n",
    "### - 3.5 Check your work \n",
    "```SQL\n",
    "SELECT Range\n",
    "FROM evCars\n",
    "\n",
    "```\n",
    "\n",
    "<br>\n"
   ]
  },
  {
   "attachments": {},
   "cell_type": "markdown",
   "metadata": {},
   "source": [
    "\n",
    "### - 3.6 Convert the units to MPH\n",
    "```SQL\n",
    "SELECT Range, ROUND(Range * 0.621371,  1)\n",
    "FROM evCars\n",
    "\n",
    "UPDATE evCars\n",
    "SET Range = Range * 0.621371\n",
    "\n",
    "```\n",
    "\n",
    "<br>\n"
   ]
  },
  {
   "attachments": {},
   "cell_type": "markdown",
   "metadata": {},
   "source": [
    "\n",
    "### - 3.7 Rename the column\n",
    "```SQL\n",
    "\n",
    "ALTER TABLE evCars\n",
    "RENAME Range to RangeMiles\n",
    "```\n",
    "\n",
    "<br>\n"
   ]
  },
  {
   "attachments": {},
   "cell_type": "markdown",
   "metadata": {},
   "source": [
    "\n",
    "### - 3.8  Select All of the records to get a look at the whole table with your recent changes. \n",
    "```SQL\n",
    "SELECT*\n",
    "FROM evCars\n",
    "\n",
    "\n",
    "```\n",
    "\n",
    "<br>\n"
   ]
  },
  {
   "attachments": {},
   "cell_type": "markdown",
   "metadata": {},
   "source": [
    "\n",
    "### - 4.1 Write a select statement to review both of the columns that you are looking to change \n",
    "\n",
    "```SQL\n",
    "SELECT Efficiency, FastCharge\n",
    "FROM evCars\n",
    "\n",
    "```\n",
    "\n",
    "<br>\n"
   ]
  },
  {
   "attachments": {},
   "cell_type": "markdown",
   "metadata": {},
   "source": [
    "\n",
    "### - 4.2 Selecting the correct String Function that we need to remove for each column.\n",
    "```SQL\n",
    "RTRIM(Efficiency, 'Wh/km'), RTRIM(FastCharge, 'km/h')\n",
    "\n",
    "```\n",
    "\n",
    "<br>\n"
   ]
  },
  {
   "attachments": {},
   "cell_type": "markdown",
   "metadata": {},
   "source": [
    "\n",
    "### - 4.3 Visualizing the Changes before making them \n",
    "```SQL\n",
    "\n",
    "SELECT RTRIM(Efficiency, 'Wh/km'),Efficiency, RTRIM(FastCharge, 'km/h'),FastCharge\n",
    "FROM evCars\n",
    "\n",
    "```\n",
    "\n",
    "<br>\n"
   ]
  },
  {
   "attachments": {},
   "cell_type": "markdown",
   "metadata": {},
   "source": [
    "\n",
    "### - 4.4 UPDATE the records\n",
    "\n",
    "\n",
    "```SQL\n",
    "UPDATE evCars\n",
    "SET \n",
    "Efficiency = RTRIM(Efficiency, 'Wh/km'),\n",
    "FastCharge = RTRIM(FastCharge, 'km/h')\n",
    "``` \n",
    "<br>\n"
   ]
  },
  {
   "attachments": {},
   "cell_type": "markdown",
   "metadata": {},
   "source": [
    "\n",
    "### - 4.5 Check your work \n",
    "```SQL\n",
    "SELECT Efficiency, FastCharge\n",
    "FROM evCars\n",
    "\n",
    "```\n",
    "\n",
    "<br>\n"
   ]
  },
  {
   "attachments": {},
   "cell_type": "markdown",
   "metadata": {},
   "source": [
    "\n",
    "### - 4.6 Convert the `FastCharge` units to MPH\n",
    "```SQL\n",
    "SELECT Round(FastCharge * 0.621371, 1) AS OneHourFastChargeMiles\n",
    "FROM evCars\n",
    "\n",
    "```\n",
    "\n",
    "<br>\n"
   ]
  },
  {
   "attachments": {},
   "cell_type": "markdown",
   "metadata": {},
   "source": [
    "\n",
    "### - 4.7 Rename the column\n",
    "```SQL\n",
    "ALTER TABLE evCars\n",
    "RENAME FastCharge to OneHourFastChargeMiles\n",
    "\n",
    "\n",
    "ALTER TABLE evCars\n",
    "RENAME Efficiency to efficiencyWHperKM\n",
    "\n",
    "```\n",
    "\n",
    "<br>\n"
   ]
  },
  {
   "attachments": {},
   "cell_type": "markdown",
   "metadata": {},
   "source": [
    "\n",
    "### - 4.8 Select All of the records to get a look at the whole table with your recent changes. \n",
    "\n",
    "```SQL\n",
    "SELECT*\n",
    "FROM evCars\n",
    "\n",
    "\n",
    "```\n",
    "\n",
    "<br>\n",
    "\n"
   ]
  },
  {
   "attachments": {},
   "cell_type": "markdown",
   "metadata": {},
   "source": [
    "\n",
    "### - 5.1 Working with `RapidCharge`\n",
    "\n",
    "```SQL\n",
    "SELECT RapidCharge, count(*)\n",
    "FROM evCars\n",
    "GROUP BY RapidCharge\n",
    "```\n",
    "<br>\n"
   ]
  },
  {
   "attachments": {},
   "cell_type": "markdown",
   "metadata": {},
   "source": [
    "\n",
    "### - 5.2 making data cleaning choices \n",
    "```SQL\n",
    "1 or 0\n",
    "\n",
    "```\n",
    "\n",
    "<br>\n"
   ]
  },
  {
   "attachments": {},
   "cell_type": "markdown",
   "metadata": {},
   "source": [
    "\n",
    "### - 5.3 Please fill in the blank on your .md answer sheet\n",
    "```SQL\n",
    "Rapid charging possible\n",
    "Rapid charing not possible\n",
    "\n",
    "```\n",
    "\n",
    "<br>\n"
   ]
  },
  {
   "attachments": {},
   "cell_type": "markdown",
   "metadata": {},
   "source": [
    "\n",
    "### - 5.4 Writing the update Statements  \n",
    "\n",
    "\n",
    "```SQL\n",
    "UPDATE evCars\n",
    "SET \n",
    "RapidCharge = 1\n",
    "WHERE RapidCharge = \"Rapid charging possible\",\n",
    "\n",
    "UPDATE evCars\n",
    "SET \n",
    "RapidCharge = 0\n",
    "WHERE RapidCharge = \"Rapid charging not possible\"\n",
    "\n",
    "\n",
    "```\n",
    "<br>\n"
   ]
  },
  {
   "attachments": {},
   "cell_type": "markdown",
   "metadata": {},
   "source": [
    "\n",
    "\n",
    "### -6.1 Visualize the `Powertrain` records\n",
    "```SQL\n",
    "\n",
    "SELECT PowerTrain, count(*)\n",
    "FROM evCars\n",
    "GROUP BY PowerTrain\n",
    "\n",
    "\n",
    "```\n",
    "\n",
    "<br>\n"
   ]
  },
  {
   "attachments": {},
   "cell_type": "markdown",
   "metadata": {},
   "source": [
    "\n",
    "### - 6.2 Please fill in the blank on your .md answer sheet\n",
    "```SQL\n",
    "\n",
    "All Wheel Drive\n",
    "Rear Wheel Drive\n",
    "Front Wheel Drive\n",
    "\n",
    "```\n",
    "\n",
    "<br>\n"
   ]
  },
  {
   "attachments": {},
   "cell_type": "markdown",
   "metadata": {},
   "source": [
    "\n",
    "### - 6.3 Write three update statements for the three different conditions \n",
    "\n",
    "```SQL\n",
    "UPDATE evCars\n",
    "SET \n",
    "PowerTrain = 'AWD'\n",
    "WHERE PowerTrain = \"All Wheel Drive\"\n",
    "\n",
    "UPDATE evCars\n",
    "SET \n",
    "PowerTrain = 'RWD'\n",
    "WHERE PowerTrain = \"Rear Wheel Drive\"\n",
    "\n",
    "UPDATE evCars\n",
    "SET \n",
    "PowerTrain = 'FWD'\n",
    "WHERE PowerTrain = \"Front Wheel Drive\"\n",
    "\n",
    "\n",
    "```\n",
    "\n",
    "<br>\n"
   ]
  },
  {
   "attachments": {},
   "cell_type": "markdown",
   "metadata": {},
   "source": [
    "\n",
    "### - 6.4 Write a query to Select all of the records to view your changes. \n",
    "```SQL\n",
    "SELECT*\n",
    "FROM evCars\n",
    "\n",
    "```\n",
    "\n",
    "<br>\n"
   ]
  },
  {
   "attachments": {},
   "cell_type": "markdown",
   "metadata": {},
   "source": [
    "\n",
    "### - 7.1 Convert the `PriceEuro` to `PriceUSD` \n",
    "```SQL\n",
    "SELECT PriceEuro, Round(PriceEuro*1.09,2) as PriceUSD\n",
    "FROM evCars\n",
    "\n",
    "\n",
    "```\n",
    "\n",
    "<br>\n"
   ]
  },
  {
   "attachments": {},
   "cell_type": "markdown",
   "metadata": {},
   "source": [
    "\n",
    "### - 7.2 Write the Update Statements \n",
    "```SQL\n",
    "Update evCars\n",
    "SET PriceEuro =  Round(PriceEuro*1.09,2)\n",
    "\n",
    "```\n",
    "\n",
    "<br>\n"
   ]
  },
  {
   "attachments": {},
   "cell_type": "markdown",
   "metadata": {},
   "source": [
    "\n",
    "### - 7.3 Rename the Column\n",
    "\n",
    "```SQL\n",
    "\n",
    "\n",
    "ALTER TABLE evCars\n",
    "RENAME PriceEuro to PriceUSD\n",
    "```\n",
    "\n",
    "<br>\n",
    "\n",
    "\n",
    "\n",
    "\n",
    "\n",
    "\n",
    "\n",
    "\n",
    "\n",
    "\n"
   ]
  },
  {
   "attachments": {},
   "cell_type": "markdown",
   "metadata": {},
   "source": []
  }
 ],
 "metadata": {
  "kernelspec": {
   "display_name": "Python 3",
   "language": "python",
   "name": "python3"
  },
  "language_info": {
   "name": "python",
   "version": "3.11.3"
  },
  "orig_nbformat": 4
 },
 "nbformat": 4,
 "nbformat_minor": 2
}
