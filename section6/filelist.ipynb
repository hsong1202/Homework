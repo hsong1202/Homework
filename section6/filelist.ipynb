{
 "cells": [
  {
   "cell_type": "code",
   "execution_count": 22,
   "metadata": {},
   "outputs": [
    {
     "name": "stdout",
     "output_type": "stream",
     "text": [
      "['QISales2005.csv', 'QISales2006.csv', 'QISales2007.csv', 'QISales2008.csv', 'QISales2009.csv', 'QISales2010.csv', 'QISales2011.csv', 'QISales2012.csv', 'RDEQISales2013.csv', 'RDEQISales2014.csv', 'RDEQISales2015.csv', 'RDEQISales2016.csv', 'RDEQISales2017.csv', 'RDEQISales2018.csv']\n"
     ]
    }
   ],
   "source": [
    "import os\n",
    "\n",
    "folder = \"./Dataset/\"\n",
    "\n",
    "\n",
    "def printfiles(folder_path):\n",
    "    files = os.listdir(folder_path)\n",
    "    flist = []\n",
    "    for file in files:\n",
    "        folder_path = os.path.join(file)\n",
    "        # print(flist)\n",
    "        flist.append(folder_path)\n",
    "    return flist\n",
    "        \n",
    "lsfiles = printfiles(folder)\n",
    "\n",
    "# print(lsfiles)\n",
    "\n",
    "\n",
    "ofile = open(\"filelist.txt\",'w')\n",
    "\n",
    "for line in lsfiles:\n",
    "#initalize new variable to write\n",
    "    writeline = f\"{line},\\n\"\n",
    "#insert new string to the output file \n",
    "    ofile.write(writeline)\n",
    "ofile.close()"
   ]
  }
 ],
 "metadata": {
  "kernelspec": {
   "display_name": "Python 3",
   "language": "python",
   "name": "python3"
  },
  "language_info": {
   "name": "python",
   "version": "3.11.3"
  },
  "orig_nbformat": 4
 },
 "nbformat": 4,
 "nbformat_minor": 2
}
