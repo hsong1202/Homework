{
 "cells": [
  {
   "attachments": {},
   "cell_type": "markdown",
   "metadata": {},
   "source": [
    "1. Topic:  Is the price of single-family homes in Reno too high? \n",
    "\n",
    "\n",
    "Context:  The single-family home prices in the United States have soared over the years and although there have been some improvements in the affordability of single-family homes, I wanted to see how much the price of single-family homes has changed over time in Reno. \n",
    "\n",
    "\n",
    "2.     Datasets:\n",
    "\n",
    "Washoe County Sales report 2005 to 2022.xlsx\n",
    "·       “Primary” dataset\n",
    "·       Sales report for homes from 2005 to 2022\n",
    "·       https://www.washoecounty.gov/assessor/online_data/index.php\n",
    "\n",
    "3.      Plan:\n",
    "using the data avaialable examine the price of single family homes in Reno compare to other cities in Washoe County\n"
   ]
  }
 ],
 "metadata": {
  "kernelspec": {
   "display_name": "Python 3",
   "language": "python",
   "name": "python3"
  },
  "language_info": {
   "name": "python",
   "version": "3.11.3"
  },
  "orig_nbformat": 4
 },
 "nbformat": 4,
 "nbformat_minor": 2
}
