{
 "cells": [
  {
   "attachments": {},
   "cell_type": "markdown",
   "metadata": {},
   "source": [
    "1. Topic:  Is the price of single-family homes in Reno too high? \n",
    "\n",
    "Context:  The single-family home prices in the United States have soared over the years and although there have been some improvements in the affordability of single-family homes, I wanted to see how much the price of single-family homes has changed over time in Reno. \n",
    "\n",
    "2.     Datasets:\n",
    "\n",
    "Washoe County Sales report 2005 to 2022.xlsx\n",
    "“Primary” dataset\n",
    "report for homes from 2005 to 2022\n",
    "https://www.washoecounty.gov/assessor/online_data/sales_reports.php\n",
    "\n",
    "3.      Plan:\n",
    "\n",
    "QISales2005.csv,\n",
    "QISales2006.csv,\n",
    "QISales2007.csv,\n",
    "QISales2008.csv,\n",
    "QISales2009.csv,\n",
    "QISales2010.csv,\n",
    "QISales2011.csv,\n",
    "QISales2012.csv,\n",
    "RDEQISales2013.csv,\n",
    "RDEQISales2014.csv,\n",
    "RDEQISales2015.csv,\n",
    "RDEQISales2016.csv,\n",
    "RDEQISales2017.csv,\n",
    "RDEQISales2018.csv\n",
    "\n",
    "using the dataset avaialable examine the price of single family homes in Reno compare to other cities in Washoe County\n",
    "\n",
    "\n",
    "\n"
   ]
  }
 ],
 "metadata": {
  "kernelspec": {
   "display_name": "Python 3",
   "language": "python",
   "name": "python3"
  },
  "language_info": {
   "name": "python",
   "version": "3.11.3"
  },
  "orig_nbformat": 4
 },
 "nbformat": 4,
 "nbformat_minor": 2
}
