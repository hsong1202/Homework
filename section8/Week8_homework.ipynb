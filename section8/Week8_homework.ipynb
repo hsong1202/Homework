{
 "cells": [
  {
   "cell_type": "code",
   "execution_count": 48,
   "metadata": {},
   "outputs": [
    {
     "name": "stdout",
     "output_type": "stream",
     "text": [
      "you have entered a following location: 5511077\n",
      "your request was successful\n",
      "you have requested data for Reno\n",
      "the temperature for Reno is 297.16\n",
      "the predicted weather pattern is Clouds\n"
     ]
    }
   ],
   "source": [
    "import requests\n",
    "from dotenv import load_dotenv\n",
    "import pandas as pd\n",
    "import json\n",
    "import os\n",
    "\n",
    "load_dotenv()\n",
    "#get location parameter\n",
    "location = input(\"please specify the location using city name, coordinates, or OpenWeatherMap's unique city ID.\")\n",
    "#load api key from the environment\n",
    "api_key = os.getenv('API_KEY')\n",
    "print(f\"you have entered a following location: {location}\")\n",
    "#try block\n",
    "try:\n",
    "    # store Open Weather URL to a variable\n",
    "    url = f'http://api.openweathermap.org/data/2.5/forecast?id={location}&appid={api_key}'\n",
    "    # get response from the web using the url stored\n",
    "    response = requests.get(url)\n",
    "    # store response's json attribute as data\n",
    "    data = response.json()\n",
    "    \n",
    "    #print out API request response\n",
    "    header = data['cod']\n",
    "    \n",
    "    if header == '200':\n",
    "        #access city element from json \n",
    "        citydata = data['city']\n",
    "        #access cityname from city dictionary\n",
    "        cityname = citydata['name']\n",
    "        #access list element from json \n",
    "        listdata = data['list']\n",
    "\n",
    "        #access list 0 from list list\n",
    "        listdict = listdata[0]\n",
    "        #access temperature element from list 0\n",
    "        tempdict = listdict['main']\n",
    "        #access temperature from temperature dictionary\n",
    "        temperature = tempdict['temp']\n",
    "        #access weather dictionary from list 0\n",
    "        weatherlist = listdict['weather']\n",
    "        #access weather list 0 from weather dictonary\n",
    "        weatherdict = weatherlist[0]\n",
    "        #access weather element from weather list\n",
    "        weather = weatherdict['main']\n",
    "        #print out response\n",
    "        print('your request was successful')\n",
    "        print(f'you have requested data for {cityname}')\n",
    "        print(f'the temperature for {cityname} is {temperature}')\n",
    "        print(f'the predicted weather pattern is {weather}')\n",
    "    else:\n",
    "        print(f\"your request returned a following respose:{header}\")\n",
    "except requests.exceptions.RequestException as e:\n",
    "    print(\"connection error occured:\",e)"
   ]
  }
 ],
 "metadata": {
  "kernelspec": {
   "display_name": "Python 3",
   "language": "python",
   "name": "python3"
  },
  "language_info": {
   "codemirror_mode": {
    "name": "ipython",
    "version": 3
   },
   "file_extension": ".py",
   "mimetype": "text/x-python",
   "name": "python",
   "nbconvert_exporter": "python",
   "pygments_lexer": "ipython3",
   "version": "3.11.3"
  },
  "orig_nbformat": 4
 },
 "nbformat": 4,
 "nbformat_minor": 2
}
