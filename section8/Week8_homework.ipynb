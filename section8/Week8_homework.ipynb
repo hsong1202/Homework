{
 "cells": [
  {
   "cell_type": "code",
   "execution_count": 5,
   "metadata": {},
   "outputs": [
    {
     "name": "stdout",
     "output_type": "stream",
     "text": [
      "cod : 401\n",
      "message : Invalid API key. Please see https://openweathermap.org/faq#error401 for more info.\n"
     ]
    },
    {
     "ename": "KeyError",
     "evalue": "'list'",
     "output_type": "error",
     "traceback": [
      "\u001b[1;31m---------------------------------------------------------------------------\u001b[0m",
      "\u001b[1;31mKeyError\u001b[0m                                  Traceback (most recent call last)",
      "Cell \u001b[1;32mIn[5], line 29\u001b[0m\n\u001b[0;32m     26\u001b[0m     \u001b[39mprint\u001b[39m(key, \u001b[39m'\u001b[39m\u001b[39m:\u001b[39m\u001b[39m'\u001b[39m, value)\n\u001b[0;32m     28\u001b[0m \u001b[39m# print(data['list'])\u001b[39;00m\n\u001b[1;32m---> 29\u001b[0m newlist \u001b[39m=\u001b[39m data[\u001b[39m'\u001b[39;49m\u001b[39mlist\u001b[39;49m\u001b[39m'\u001b[39;49m]\n\u001b[0;32m     30\u001b[0m \u001b[39m# len(newlist)\u001b[39;00m\n\u001b[0;32m     31\u001b[0m \u001b[39mfor\u001b[39;00m item \u001b[39min\u001b[39;00m newlist:\n",
      "\u001b[1;31mKeyError\u001b[0m: 'list'"
     ]
    }
   ],
   "source": [
    "import requests\n",
    "from dotenv import load_dotenv\n",
    "import pandas as pd\n",
    "import json\n",
    "import os\n",
    "\n",
    "load_dotenv()\n",
    "#get location parameter\n",
    "location = input(\"please specify the location using city name, coordinates, or OpenWeatherMap's unique city ID.\")\n",
    "#load api key from the environment\n",
    "api_key = os.getenv('API_KEY')\n",
    "#try block\n",
    "try:\n",
    "    # get response from the web and store it in response variable\n",
    "    response = requests.get(f'http://api.openweathermap.org/data/2.5/forecast?id={location}&appid={api_key}')\n",
    "\n",
    "    #5511077\n",
    "    #store response's json attribute as data\n",
    "    data = response.json()\n",
    "\n",
    "    # type(data)\n",
    "    # len(data)\n",
    "    # print(data)\n",
    "    \n",
    "    for key, value in data.items():\n",
    "        print(key, ':', value)\n",
    "\n",
    "    # print(data['list'])\n",
    "    newlist = data['list']\n",
    "    # len(newlist)\n",
    "    for item in newlist:\n",
    "        print(newlist)\n",
    "    #convert new list to Dataframe\n",
    "    df = pd.DataFrame(newlist)\n",
    "\n",
    "    # print(df)\n",
    "    #export list to csv\n",
    "    df.to_csv('Renodata.csv', index =False)\n",
    "    # print \n",
    "    print('Data exported successfully!')\n",
    "\n",
    "except requests.exceptions.RequestException as e:\n",
    "    print(\"connection error occured:\",e)"
   ]
  }
 ],
 "metadata": {
  "kernelspec": {
   "display_name": "Python 3",
   "language": "python",
   "name": "python3"
  },
  "language_info": {
   "codemirror_mode": {
    "name": "ipython",
    "version": 3
   },
   "file_extension": ".py",
   "mimetype": "text/x-python",
   "name": "python",
   "nbconvert_exporter": "python",
   "pygments_lexer": "ipython3",
   "version": "3.11.3"
  },
  "orig_nbformat": 4
 },
 "nbformat": 4,
 "nbformat_minor": 2
}
