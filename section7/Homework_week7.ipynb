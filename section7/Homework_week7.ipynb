{
 "cells": [
  {
   "attachments": {},
   "cell_type": "markdown",
   "metadata": {},
   "source": [
    "# SECTION 07 HW\n"
   ]
  },
  {
   "attachments": {},
   "cell_type": "markdown",
   "metadata": {},
   "source": [
    "\n",
    "### 7.1 HW Questions\n",
    "Using EVregistry, Write a query to select the ModelYear, Make, and Model off all of the vehicles in the registry.\n",
    "```\n",
    "\n",
    "SELECT ModelYear,\n",
    "Make,\n",
    "Model\n",
    "FROM EVRegistry\n",
    "\n",
    "```\n"
   ]
  },
  {
   "attachments": {},
   "cell_type": "markdown",
   "metadata": {},
   "source": [
    "\n",
    "Using the EVRegistry table, Write a query that lists all of the unique types of EV's. your result set should have one column, ElectricVehicleType.\n",
    "```\n",
    "\n",
    "SELECT DISTINCT ElectricVehicleType\n",
    "FROM EVRegistry\n",
    "\n",
    "```\n"
   ]
  },
  {
   "attachments": {},
   "cell_type": "markdown",
   "metadata": {},
   "source": [
    "\n",
    "Using the EVRegistry, Write a query that shows all of the information on Battery Electric Vehicles (BEV) that are in the registry.\n",
    "```\n",
    "\n",
    "SELECT *\n",
    "FROM  EVRegistry\n",
    "\n",
    "\n",
    "```\n"
   ]
  },
  {
   "attachments": {},
   "cell_type": "markdown",
   "metadata": {},
   "source": [
    "\n",
    "Using the EVRegistry, wirte a query that returns the Make and Model of all of the EV's that have a BaseMSRP between 20000 and 35000?\n",
    "```\n",
    "\n",
    "SELECT Make, Model\n",
    "FROM EVRegistry\n",
    "WHERE BaseMSRP > 20000 AND BaseMSRP < 35000\n",
    "\n",
    "```"
   ]
  },
  {
   "attachments": {},
   "cell_type": "markdown",
   "metadata": {},
   "source": [
    "# 7.2 HW Questions\n",
    "Using EVRegistry, write a query to find a record where the City attribute is NULL. Return all of the available columns.\n",
    "```\n",
    "SELECT *\n",
    "FROM  EVRegistry\n",
    "WHERE City IS NULL\n",
    "\n",
    "\n",
    "```\n"
   ]
  },
  {
   "attachments": {},
   "cell_type": "markdown",
   "metadata": {},
   "source": [
    "\n",
    "Write a query to find the make, model, and ElectricVehicleType where the VIN number has that ends in '3E1EA1J'.\n",
    "```\n",
    "SELECT Make, Model, ElectricVehicleType\n",
    "FROM  EVRegistry\n",
    "WHERE VIN LIKE '%3E1EA1J'\n",
    "\n",
    "```\n"
   ]
  },
  {
   "attachments": {},
   "cell_type": "markdown",
   "metadata": {},
   "source": [
    "\n",
    "Select the ModelYear, make, model, ElectricVehicleType, and range of the Tesla vehicles or cheverolet vehicles in the registry. Order the result set by Make and Model year in from newest to oldest.\n",
    "```\n",
    "\n",
    "SELECT ModelYear, Make, Model, ElectricVehicleType, ElectricRange\n",
    "FROM  EVRegistry\n",
    "WHERE Make = 'TESLA' OR Make = 'CHEVROLET'\n",
    "ORDER BY Make, ModelYear DESC\n",
    "\n",
    "```\n"
   ]
  },
  {
   "attachments": {},
   "cell_type": "markdown",
   "metadata": {},
   "source": [
    "\n",
    "Using EVCharging, Write a query to find out how many many times those stations were used. Order them by the most used to the least used and limit the output to 5 records.\n",
    "```\n",
    "SELECT stationID, Count(stationID) as Counts\n",
    "FROM  EVCharging\n",
    "GROUP BY stationId\n",
    "ORDER BY 2 DESC\n",
    "LIMIT 5\n",
    "```\n"
   ]
  },
  {
   "attachments": {},
   "cell_type": "markdown",
   "metadata": {},
   "source": [
    "\n",
    "Using EVCharging, For the folks who charged longer than 0.5 hours, show the min and max of the charging time for each user. Your output columns should be userid, minTime, and maxTime. Order this result set by the last two columns respectively.\n",
    "```\n",
    "\n",
    "SELECT userId, MIN(chargeTimeHrs)as 'minTime', MAX(chargeTimeHrs) as 'maxTime'\n",
    "FROM EVCharging\n",
    "WHERE chargeTimeHrs > 0.5\n",
    "GROUP BY userId\n",
    "\n",
    "```"
   ]
  },
  {
   "attachments": {},
   "cell_type": "markdown",
   "metadata": {},
   "source": [
    "# 7.3 HW Questions\n",
    "\n",
    "Using EVCharging, Which day of the week has the highest average charging time? Round the answer to 2 decimal points.\n",
    "```\n",
    "\n",
    "SELECT ROUND(AVG(chargeTimeHrs),2) as 'avg charge time', weekday\n",
    "FROM EVCharging\n",
    "GROUP BY weekday\n",
    "Order by 1 DESC\n",
    "LIMIT 1\n",
    "\n",
    "```\n"
   ]
  },
  {
   "attachments": {},
   "cell_type": "markdown",
   "metadata": {},
   "source": [
    "\n",
    "Using, EV charging, Find the total power consumed from charging EV's by each User. Return the userId and name the calculated column, totalPower. Round the answer to 2 deciaml points and list the out put in highest to lowest order. Limit the order to the top 15 users.\n",
    "```\n",
    "SELECT userID, ROUND(SUM(kwhTotal),2) as 'totalPower'\n",
    "FROM EVCharging\n",
    "GROUP BY userID\n",
    "ORDER BY totalPower DESC\n",
    "LIMIT 15\n",
    "```\n"
   ]
  },
  {
   "attachments": {},
   "cell_type": "markdown",
   "metadata": {},
   "source": [
    "\n",
    "Using dimfacility and factCharge, write a query to find out which type of facility (GROUP BY) has the most amount of charging stations. Return type Facility and name the calculated column numStation. Order the result set from highest to lowest number of charging stations.\n",
    "```\n",
    "\n",
    "SELECT typeFacility, Count(typeFacility) as 'numstation'\n",
    "FROM factCharge\n",
    "INNER JOIN dimFacility\n",
    "ON factCharge.facilityID = dimFacility.FacilityKey\n",
    "GROUP BY typeFacility\n",
    "ORDER BY 2 DESC\n",
    "```\n"
   ]
  },
  {
   "attachments": {},
   "cell_type": "markdown",
   "metadata": {},
   "source": [
    "\n",
    "In your own words, Briefly explain Primary Keys and Foreign Keys.\n",
    "```\n",
    "Primary Key is an attribute on a table that is used to identify the value stored in the said table\n",
    "\n",
    "Foreign Key is a attribute with in a table that identifes a key attribute in another table. \n",
    "\n",
    "```\n"
   ]
  },
  {
   "attachments": {},
   "cell_type": "markdown",
   "metadata": {},
   "source": [
    "\n",
    "Using EV Charging, For the folks who charged longer than one hour, show the min and max of the charging time for each user. Your output columns should be userid, minTime, and maxTime. Order this result set by the last two columns respectively. HINT: USE HAVING\n",
    "```\n",
    "\n",
    "SELECT userID, MIN(chargeTimeHrs) as 'minTime' , MAX(chargeTimeHrs) as 'maxTime'\n",
    "FROM EVCharging\n",
    "WHERE chargeTimeHrs > 1\n",
    "GROUP BY userId\n",
    "ORDER BY 2,3 DESC\n",
    "\n",
    "```\n",
    "\n"
   ]
  }
 ],
 "metadata": {
  "kernelspec": {
   "display_name": "Python 3",
   "language": "python",
   "name": "python3"
  },
  "language_info": {
   "name": "python",
   "version": "3.11.3"
  },
  "orig_nbformat": 4
 },
 "nbformat": 4,
 "nbformat_minor": 2
}
