{
 "cells": [
  {
   "attachments": {},
   "cell_type": "markdown",
   "metadata": {},
   "source": [
    "Python Homework (NumPy, Pandas)\n",
    "Use markdown formatting for the following questions:\n",
    "\n",
    "1. What does Pandas stand for?\n",
    "Python Data Analysis\n",
    "\n",
    "2. What are the 2 collections used in Pandas?\n",
    "Series and Dataframe\n",
    "\n",
    "3. Name 4 things Pandas can do for us.\n",
    "load, manipulate, prepare, and model data\n",
    "\n",
    "4. To permanently sort a DataFrame, which keyword should one use with the df.sort() method?\n",
    "set the inplace parameter to True (inplace = True)\n",
    "\n",
    "5. What is a CSV\n",
    "Comma Separated Value, string values separated by commas\n",
    "\n",
    "6. When cleaning data what values do we not like in our data?\n",
    "Null or empty values\n",
    "\n"
   ]
  },
  {
   "cell_type": "code",
   "execution_count": 2,
   "metadata": {},
   "outputs": [
    {
     "name": "stdout",
     "output_type": "stream",
     "text": [
      "[[[ 0  1]\n",
      "  [ 2  3]\n",
      "  [ 4  5]]\n",
      "\n",
      " [[ 6  7]\n",
      "  [ 8  9]\n",
      "  [10 11]]]\n"
     ]
    }
   ],
   "source": [
    "\n",
    "# 7. Please Complete this Coding Exercise:\n",
    "# Import NumPy, \n",
    "#use one of the NumPy methods and create an array with a shape of ... (2, 3, 2). \n",
    "#You can use the reshape method -- .reshape()\n",
    "\n",
    "import numpy as np\n",
    "\n",
    "newArr = np.arange(12).reshape((2,3,2))\n",
    "print(newArr)"
   ]
  },
  {
   "cell_type": "code",
   "execution_count": 3,
   "metadata": {},
   "outputs": [
    {
     "name": "stdout",
     "output_type": "stream",
     "text": [
      "[ 0.  4.  8. 12. 16. 20.]\n"
     ]
    }
   ],
   "source": [
    "# 8. Use NumPy .linspace() to create an array with 6 linearly spaced values between 0 and 20\n",
    "newArr = np.linspace(0,20, num=6)\n",
    "print(newArr)"
   ]
  },
  {
   "cell_type": "code",
   "execution_count": 5,
   "metadata": {},
   "outputs": [
    {
     "name": "stdout",
     "output_type": "stream",
     "text": [
      "[ 0.  4.  8. 12. 16. 20.]\n"
     ]
    }
   ],
   "source": [
    "# 9. Make a Deep Copy of the above array\n",
    "import copy\n",
    "\n",
    "newArrDeepCopy = copy.deepcopy(newArr)\n",
    "\n",
    "print(newArrDeepCopy)"
   ]
  },
  {
   "cell_type": "code",
   "execution_count": 11,
   "metadata": {},
   "outputs": [
    {
     "name": "stdout",
     "output_type": "stream",
     "text": [
      "[[25 16]\n",
      " [11  2]\n",
      " [13  4]\n",
      " [ 7 81]\n",
      " [ 5  6]\n",
      " [11 12]]\n",
      "(6, 2)\n",
      "12\n",
      "2\n"
     ]
    }
   ],
   "source": [
    "# 11. Concatenate these 3 arrays into a new array named 'newArray'...\n",
    "array1 = np.array([[25, 16]])\n",
    "array2 = np.array([[11, 2], [13, 4]])\n",
    "array3 = np.array([[7, 81], [5, 6], [11, 12]])\n",
    "\n",
    "# print(array1, array2, array3)\n",
    "# print(array1.shape,array2.shape,array3.shape)\n",
    "# print(array1.size,array2.size,array3.size)\n",
    "# print(array1.ndim,array2.ndim,array3.ndim)\n",
    "\n",
    "newArray = np.concatenate((array1, array2, array3), axis=0)\n",
    "print(newArray)\n",
    "print(newArray.shape)\n",
    "print(newArray.size)\n",
    "print(newArray.ndim)"
   ]
  },
  {
   "cell_type": "code",
   "execution_count": 12,
   "metadata": {},
   "outputs": [
    {
     "ename": "NameError",
     "evalue": "name 'sortedArray' is not defined",
     "output_type": "error",
     "traceback": [
      "\u001b[1;31m---------------------------------------------------------------------------\u001b[0m",
      "\u001b[1;31mNameError\u001b[0m                                 Traceback (most recent call last)",
      "Cell \u001b[1;32mIn[12], line 2\u001b[0m\n\u001b[0;32m      1\u001b[0m \u001b[39m# 12. Sort 'newArray' in order into 'sortedArray'\u001b[39;00m\n\u001b[1;32m----> 2\u001b[0m sortedArray\u001b[39m.\u001b[39msort()\n\u001b[0;32m      3\u001b[0m \u001b[39mprint\u001b[39m(sortedArray)\n",
      "\u001b[1;31mNameError\u001b[0m: name 'sortedArray' is not defined"
     ]
    }
   ],
   "source": [
    "# 12. Sort 'newArray' in order into 'sortedArray'\n",
    "sortedArray = copy.deepcopy(newArray)\n",
    "sortedArray.sort()\n",
    "print(sortedArray)\n"
   ]
  },
  {
   "cell_type": "code",
   "execution_count": 40,
   "metadata": {},
   "outputs": [
    {
     "name": "stdout",
     "output_type": "stream",
     "text": [
      "[[[16 25  2]\n",
      "  [11  4 13]]\n",
      "\n",
      " [[ 7 81  5]\n",
      "  [ 6 11 12]]]\n",
      "(2, 2, 3)\n",
      "3\n",
      "12\n"
     ]
    }
   ],
   "source": [
    "# 13. Reshape the 'sortedArray' array, into a new array called 'reshapedArray', so it has 2 dimensions with a size of 2, 3.\n",
    "reshapedArray = sortedArray.reshape(2,2,3)\n",
    "print(reshapedArray)\n"
   ]
  },
  {
   "cell_type": "code",
   "execution_count": 54,
   "metadata": {},
   "outputs": [
    {
     "name": "stdout",
     "output_type": "stream",
     "text": [
      "[16 25  2] \n",
      " [11  4 13] \n",
      " [ 7 81  5] \n",
      " [ 6 11 12]\n"
     ]
    }
   ],
   "source": [
    "# 14. Unpack the array tuples from the above 'reshapedArray' into 4 well named variables. Print the 4 variables.\n",
    "reshapedArray = reshapedArray.reshape(4,3)\n",
    "\n",
    "a,b,c,d = reshapedArray\n",
    "\n",
    "print(a,\"\\n\",b,\"\\n\",c,\"\\n\",d)"
   ]
  },
  {
   "cell_type": "code",
   "execution_count": 11,
   "metadata": {},
   "outputs": [
    {
     "name": "stdout",
     "output_type": "stream",
     "text": [
      "[ 0  1  2  3  4  5  6  7 10 11 12 13 14 15 16 17 20 21 22 23 24 25 26 27]\n"
     ]
    }
   ],
   "source": [
    "# 15. Combined and sort the following arrays into one called 'comboArray' ...\n",
    "\n",
    "arrayone = np.array([10, 11, 12, 13, 14, 15, 16, 17])\n",
    "arraytwo = np.array([20, 21, 22, 23, 24, 25, 26, 27])\n",
    "arraythree = np.array([ 0, 1, 2, 3, 4, 5, 6, 7])\n",
    "\n",
    "comboArray = np.concatenate((arrayone, arraytwo, arraythree), axis=0)\n",
    "\n",
    "comboArray.sort()\n",
    "print(comboArray)"
   ]
  },
  {
   "cell_type": "code",
   "execution_count": 54,
   "metadata": {},
   "outputs": [
    {
     "name": "stdout",
     "output_type": "stream",
     "text": [
      "24\n",
      "1\n",
      "[ 2  3  4  5  6  7 10 11 12 13 14 15 16 17 20 21 22 23 24 25 26 27]\n",
      "[ 3  4  5  6  7 10 11 12 13 14 15]\n",
      "[22 23 24 25 26 27]\n",
      "[ 0  1  2  3  4  5  6  7 10 11 12 13 14 15]\n",
      "[20 22 24 26]\n",
      "[ 0  5 12 17 24]\n"
     ]
    }
   ],
   "source": [
    "# 16. Take 'comboArray' and perform the following slicing activities:\n",
    "print(len(comboArray))\n",
    "\n",
    "\n",
    "# print sec1 - the 2nd element\n",
    "print(comboArray[1])\n",
    "# print sec2 - all elements from the 3rd element to the last\n",
    "print(comboArray[2:])\n",
    "\n",
    "# print sec3 - all elements from the 4th to the 14th elements\n",
    "print(comboArray[3:14])\n",
    "\n",
    "# print sec4 - the last 6 elements\n",
    "print(comboArray[-6:])\n",
    "\n",
    "# print sec5 - all element from #0 up to and including #15, using the negative number method, i.e. taking a section from the end.\n",
    "print(comboArray[:-10])\n",
    "\n",
    "# print sec6 - from #20 every even element to the end\n",
    "print(comboArray[16::2])\n",
    "\n",
    "# print sec7 - from the last element moving forward, every 5th element.\n",
    "print(comboArray[-24::5])\n",
    "\n",
    "\n"
   ]
  },
  {
   "cell_type": "code",
   "execution_count": 67,
   "metadata": {},
   "outputs": [
    {
     "name": "stdout",
     "output_type": "stream",
     "text": [
      "  Ingredients  Quantity   Unit\n",
      "0       Flour         4   cups\n",
      "1        Milk         1    cup\n",
      "2        Eggs         2  large\n",
      "3        Spam         1    can\n"
     ]
    }
   ],
   "source": [
    "# 20. Using Series, create a DataFrame that looks like this:\n",
    "\n",
    "# Ingredients\tQuantity\tUnit\n",
    "# Flour\t4\tcups\n",
    "# Milk\t1\tcup\n",
    "# Eggs\t2\tlarge\n",
    "# Spam\t1\tcan\n",
    "# Name: Dinner, dtype: object\n",
    "\n",
    "import numpy\n",
    "import pandas as pd\n",
    "\n",
    "ingre = pd.Series(['Flour','Milk','Eggs','Spam'], name='Ingredients')\n",
    "quant = pd.Series([4,1,2,1],name = 'Quantity')\n",
    "unit = pd.Series(['cups','cup','large','can'], name='Unit')\n",
    "Name = pd.concat([ingre,quant, unit],axis =1)\n",
    "print(Name)\n"
   ]
  },
  {
   "cell_type": "code",
   "execution_count": 69,
   "metadata": {},
   "outputs": [
    {
     "name": "stdout",
     "output_type": "stream",
     "text": [
      "      Name  Height Qualification  address  Age        Pets           sport\n",
      "0      Jai     5.1           Msc    Delhi   21         Dog           Darts\n",
      "1  janusha     6.2            MA     Doha   23       Bunny      Basketball\n",
      "2   Gaurav     5.1           Msc  Chennai   24  Chinchilla  PaddleBoarding\n",
      "3     Anuj     5.2           Msc   Dakhar   21      Parrot         Cricket\n"
     ]
    }
   ],
   "source": [
    "# 21. Take this data and create a DataFrame named studentData\n",
    "\n",
    "studentData = pd.DataFrame({'Name': ['Jai', 'janusha', 'Gaurav', 'Anuj'],\n",
    "'Height': [5.1, 6.2, 5.1, 5.2],\n",
    "'Qualification': ['Msc', 'MA', 'Msc', 'Msc'],\n",
    "'address': ['Delhi', 'Doha', 'Chennai', 'Dakhar'],\n",
    "'Age': [21, 23, 24, 21],\n",
    "'Pets': ['Dog', 'Bunny', 'Chinchilla', 'Parrot'],\n",
    "'sport': ['Darts', 'Basketball', 'PaddleBoarding', 'Cricket']\n",
    "})\n",
    "print(studentData)\n"
   ]
  },
  {
   "cell_type": "code",
   "execution_count": 77,
   "metadata": {},
   "outputs": [
    {
     "name": "stdout",
     "output_type": "stream",
     "text": [
      "      Name  Height Qualification  address  Age        Pets           sport\n",
      "0      Jai     5.1           Msc    Delhi   21         Dog           Darts\n",
      "1  janusha     6.2            MA     Doha   23       Bunny      Basketball\n",
      "2   Gaurav     5.1           Msc  Chennai   24  Chinchilla  PaddleBoarding\n",
      "3     Anuj     5.2           Msc   Dakhar   21      Parrot         Cricket\n"
     ]
    }
   ],
   "source": [
    "# 22. Add a new column to the DataFrame with the following deserts: [\"ice cream\", \"Cashew Fudge\", \"waffels\", \"Carrot Halwa\"]\n",
    "deserts = pd.Series({'deserts':[\"ice cream\", \"Cashew Fudge\", \"waffels\", \"Carrot Halwa\"]}, name= 'Deserts')\n",
    "studentData.join(deserts)\n",
    "print(studentData)"
   ]
  },
  {
   "cell_type": "code",
   "execution_count": 79,
   "metadata": {},
   "outputs": [
    {
     "name": "stdout",
     "output_type": "stream",
     "text": [
      "      Name  Height Qualification  address  Age        Pets           sport\n",
      "3     Anuj     5.2           Msc   Dakhar   21      Parrot         Cricket\n",
      "2   Gaurav     5.1           Msc  Chennai   24  Chinchilla  PaddleBoarding\n",
      "0      Jai     5.1           Msc    Delhi   21         Dog           Darts\n",
      "1  janusha     6.2            MA     Doha   23       Bunny      Basketball\n"
     ]
    }
   ],
   "source": [
    "# 23. Sort the 'studentData' DataFrame in Ascending order -- Sorting by column 'Name' and then \"address\"\n",
    "studentData.sort_values(by = ['Name', 'address'], inplace= True)\n",
    "print(studentData)"
   ]
  },
  {
   "cell_type": "code",
   "execution_count": 80,
   "metadata": {},
   "outputs": [],
   "source": [
    "# 24. Save this DataFrame here below to disc as a .CSV file with the name cows_and_goats.csv:\n",
    "import csv\n",
    "\n",
    "df = pd.DataFrame({'Cows': [12, 20], 'Goats': [22, 19]}, index=['Year 1', 'Year 2'])\n",
    "df.to_csv('cows_andgoats.csv')"
   ]
  },
  {
   "cell_type": "code",
   "execution_count": 84,
   "metadata": {},
   "outputs": [],
   "source": [
    "# 25. \n",
    "# (A) Using Pandas, make your own .CSV file with data on vegetables and save it. \n",
    "# (B) Using Pandas, make a change to your CSV file, and save a copy with a different name.\n",
    "\n",
    "import pandas as pd\n",
    "import csv\n",
    "\n",
    "vegetable = pd.DataFrame([[\"Carot\", \"Celery\"], [\"Orange\", \"Green\"]],\n",
    "                        columns=[\"Vegetable\", \"Color\"])\n",
    "\n",
    "vegetable.to_csv(\"vegetables.csv\")\n",
    "\n",
    "vegetable.sort_values(['Color', 'Vegetable'], inplace = True)\n",
    "\n",
    "vegetable.to_csv(\"reorg_vegetable.csv\")"
   ]
  },
  {
   "attachments": {},
   "cell_type": "markdown",
   "metadata": {},
   "source": [
    "Final Note:\n",
    "Goal from this past week: - Expanded knowledge regarding NumPy - Understanding broadcasting - Introduction to Pandas - Knowledge and ability on how to upload documents using Pandas"
   ]
  }
 ],
 "metadata": {
  "kernelspec": {
   "display_name": "Python 3",
   "language": "python",
   "name": "python3"
  },
  "language_info": {
   "codemirror_mode": {
    "name": "ipython",
    "version": 3
   },
   "file_extension": ".py",
   "mimetype": "text/x-python",
   "name": "python",
   "nbconvert_exporter": "python",
   "pygments_lexer": "ipython3",
   "version": "3.11.3"
  },
  "orig_nbformat": 4
 },
 "nbformat": 4,
 "nbformat_minor": 2
}
