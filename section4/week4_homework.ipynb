{
 "cells": [
  {
   "cell_type": "code",
   "execution_count": null,
   "metadata": {},
   "outputs": [],
   "source": [
    "# Create an if statement: if 'age' is greater than or equal to 25, print \"Renting a car is more affordable\", however if 'age' is less than 25, print \"Renting a car is very expensive.\"\n",
    "\n",
    "age = input(\"enter the age of the renter\")\n",
    "age = int(age)\n",
    "if age >= 25:\n",
    "    print(\"Renting a car is more affordable\")\n",
    "elif age < 25:\n",
    "    print(\"Renting a car is very expensive.\")\n"
   ]
  },
  {
   "cell_type": "code",
   "execution_count": null,
   "metadata": {},
   "outputs": [],
   "source": [
    "# Create and chain an if-else statement: if 'age' is greater than or equal to 25, print \"Renting a car is more affordable.\" If 'age' is less than 25 but greater than or equal to 18, print \"Renting a car is very expensive.\" Finally, if age is less than 18, print \"You cannot legally rent a car.\"\n",
    "\n",
    "age = input(\"enter the age of the renter\")\n",
    "age = int(age)\n",
    "if age >= 25:\n",
    "    print(\"Renting a car is more affordable\")\n",
    "elif age < 25 and age >= 18:\n",
    "    print(\"Renting a car is very expensive.\")\n",
    "elif age < 18:\n",
    "    print(\"You cannot legally rent a car.\")\n"
   ]
  },
  {
   "cell_type": "code",
   "execution_count": 58,
   "metadata": {},
   "outputs": [
    {
     "name": "stdout",
     "output_type": "stream",
     "text": [
      "43\n",
      "this is character: a in string index:37\n",
      "this is character: e in string index:3\n",
      "this is character: e in string index:29\n",
      "this is character: e in string index:34\n",
      "this is character: i in string index:7\n",
      "this is character: o in string index:13\n",
      "this is character: o in string index:18\n",
      "this is character: o in string index:27\n",
      "this is character: o in string index:42\n",
      "this is character: u in string index:6\n",
      "this is character: u in string index:22\n"
     ]
    }
   ],
   "source": [
    "\"\"\"Loop over the following string to\n",
    "(1) count all the characters in the string and \n",
    "(2) print out all the vowels -- \"The quick brown fox jumps over the lazy dog\" \"\"\"\n",
    "\n",
    "string1 = \"The quick brown fox jumps over the lazy dog\"\n",
    "count = 0\n",
    "vowels = ['a', 'e', 'i', 'o', 'u']\n",
    "print(len(string1))\n",
    "\n",
    "for vowel in vowels:\n",
    "    outercounter = (vowels[count])\n",
    "    # print(f\"current vowel is:{counter}\")\n",
    "    innercounter = 1\n",
    "    \n",
    "    for char in string1:\n",
    "        # print(f\"this is the current character in string1: {char}\")\n",
    "        if(outercounter == char):\n",
    "            print(f\"this is character: {outercounter} in string index:{innercounter}\")\n",
    "        innercounter = innercounter +1\n",
    "    \n",
    "    count = count +1\n"
   ]
  },
  {
   "cell_type": "code",
   "execution_count": 76,
   "metadata": {},
   "outputs": [
    {
     "name": "stdout",
     "output_type": "stream",
     "text": [
      "cerise trousers\n",
      "aqua trousers\n",
      "fuchsia trousers\n",
      "gunmetal blue trousers\n",
      "auburn trousers\n",
      "maple trousers\n",
      "burnt sienna trousers\n",
      "Dark Sapphire trousers\n",
      "cerise blouse\n",
      "aqua blouse\n",
      "fuchsia blouse\n",
      "gunmetal blue blouse\n",
      "auburn blouse\n",
      "maple blouse\n",
      "burnt sienna blouse\n",
      "Dark Sapphire blouse\n",
      "cerise bandana\n",
      "aqua bandana\n",
      "fuchsia bandana\n",
      "gunmetal blue bandana\n",
      "auburn bandana\n",
      "maple bandana\n",
      "burnt sienna bandana\n",
      "Dark Sapphire bandana\n",
      "cerise cumber band\n",
      "aqua cumber band\n",
      "fuchsia cumber band\n",
      "gunmetal blue cumber band\n",
      "auburn cumber band\n",
      "maple cumber band\n",
      "burnt sienna cumber band\n",
      "Dark Sapphire cumber band\n",
      "cerise blazer\n",
      "aqua blazer\n",
      "fuchsia blazer\n",
      "gunmetal blue blazer\n",
      "auburn blazer\n",
      "maple blazer\n",
      "burnt sienna blazer\n",
      "Dark Sapphire blazer\n",
      "cerise vest\n",
      "aqua vest\n",
      "fuchsia vest\n",
      "gunmetal blue vest\n",
      "auburn vest\n",
      "maple vest\n",
      "burnt sienna vest\n",
      "Dark Sapphire vest\n",
      "cerise french beret\n",
      "aqua french beret\n",
      "fuchsia french beret\n",
      "gunmetal blue french beret\n",
      "auburn french beret\n",
      "maple french beret\n",
      "burnt sienna french beret\n",
      "Dark Sapphire french beret\n",
      "cerise scarf\n",
      "aqua scarf\n",
      "fuchsia scarf\n",
      "gunmetal blue scarf\n",
      "auburn scarf\n",
      "maple scarf\n",
      "burnt sienna scarf\n",
      "Dark Sapphire scarf\n",
      "cerise stole\n",
      "aqua stole\n",
      "fuchsia stole\n",
      "gunmetal blue stole\n",
      "auburn stole\n",
      "maple stole\n",
      "burnt sienna stole\n",
      "Dark Sapphire stole\n"
     ]
    }
   ],
   "source": [
    "# Write a nested loop that prints out every piece of clothing from the couture list, in every fashionable color from the panettone set: couture = [\"trousers\", \"blouse\", \"bandana\", \"cumber band\", \"blazer\", \"vest\", \"french beret\", \"scarf\", \"stole\"] and panettone = {\"cerise\", \"fuchsia\", \"aqua\", \"maple\", \"auburn\", \"burnt sienna\", \"gunmetal blue\", \"Dark Sapphire\"}\n",
    "\n",
    "couture = [\"trousers\", \"blouse\", \"bandana\", \"cumber band\", \"blazer\", \"vest\", \"french beret\", \"scarf\", \"stole\"] \n",
    "panettone = {\"cerise\", \"fuchsia\", \"aqua\", \"maple\", \"auburn\", \"burnt sienna\", \"gunmetal blue\", \"Dark Sapphire\"}\n",
    "\n",
    "count = 0\n",
    "for clothing in couture:\n",
    "    for color in panettone:\n",
    "        print(f\"{color} {couture[count]}\")\n",
    "    count = count +1\n",
    "\n"
   ]
  },
  {
   "cell_type": "code",
   "execution_count": 6,
   "metadata": {},
   "outputs": [
    {
     "name": "stdout",
     "output_type": "stream",
     "text": [
      "1 0\n",
      "2 1\n",
      "3 3\n",
      "4 6\n",
      "5 10\n",
      "6 15\n",
      "7 21\n",
      "8 28\n",
      "9 36\n",
      "10 45\n",
      "11 55\n",
      "12 66\n",
      "13 78\n",
      "14 91\n",
      "15 105\n",
      "16 120\n",
      "17 136\n",
      "18 153\n",
      "19 171\n",
      "20 190\n",
      "21 210\n",
      "22 231\n",
      "23 253\n",
      "24 276\n",
      "25 300\n",
      "26 325\n",
      "27 351\n",
      "28 378\n",
      "29 406\n",
      "30 435\n",
      "31 465\n",
      "32 496\n",
      "33 528\n",
      "34 561\n",
      "35 595\n",
      "36 630\n",
      "37 666\n",
      "38 703\n",
      "39 741\n",
      "40 780\n",
      "41 820\n",
      "42 861\n",
      "43 903\n",
      "44 946\n",
      "45 990\n",
      "46 1035\n",
      "47 1081\n",
      "48 1128\n",
      "49 1176\n",
      "50 1225\n",
      "51 1275\n",
      "52 1326\n",
      "53 1378\n",
      "54 1431\n",
      "55 1485\n",
      "56 1540\n",
      "57 1596\n",
      "58 1653\n",
      "59 1711\n",
      "60 1770\n",
      "61 1830\n",
      "62 1891\n",
      "63 1953\n",
      "64 2016\n",
      "65 2080\n",
      "66 2145\n",
      "67 2211\n",
      "68 2278\n",
      "69 2346\n",
      "70 2415\n",
      "71 2485\n",
      "72 2556\n",
      "73 2628\n",
      "74 2701\n",
      "75 2775\n",
      "76 2850\n",
      "77 2926\n",
      "78 3003\n",
      "79 3081\n",
      "80 3160\n",
      "81 3240\n",
      "82 3321\n",
      "83 3403\n",
      "84 3486\n",
      "85 3570\n",
      "86 3655\n",
      "87 3741\n",
      "88 3828\n",
      "89 3916\n",
      "90 4005\n",
      "91 4095\n",
      "92 4186\n",
      "93 4278\n",
      "94 4371\n",
      "95 4465\n",
      "96 4560\n",
      "97 4656\n",
      "98 4753\n",
      "99 4851\n",
      "100 4950\n",
      "5050\n"
     ]
    }
   ],
   "source": [
    "# Use range as a loop to calculate the sum of all the numbers from 1 to 100\n",
    "\n",
    "range1 = range(1,101)\n",
    "total = 0\n",
    "for num in range1:\n",
    "    total = total + num\n",
    "    print(num, total)\n",
    "    \n",
    "print(total)\n"
   ]
  },
  {
   "cell_type": "code",
   "execution_count": 7,
   "metadata": {},
   "outputs": [
    {
     "name": "stdout",
     "output_type": "stream",
     "text": [
      "banana\n"
     ]
    }
   ],
   "source": [
    "\n",
    "# Print the second item in this fruits list. [\"apple\", \"banana\", \"cherry\"]\n",
    "\n",
    "fruitlist = [\"apple\", \"banana\", \"cherry\"]\n",
    "print(fruitlist[1])"
   ]
  },
  {
   "cell_type": "code",
   "execution_count": 10,
   "metadata": {},
   "outputs": [
    {
     "name": "stdout",
     "output_type": "stream",
     "text": [
      "kiwi\n"
     ]
    }
   ],
   "source": [
    "\n",
    "# Change the value from \"apple\" to \"kiwi\", in the fruits list. [\"apple\", \"banana\", \"cherry\"]\n",
    "fruitlist = [\"apple\", \"banana\", \"cherry\"]\n",
    "fruitlist[0] = \"kiwi\"\n",
    "print(fruitlist[0])"
   ]
  },
  {
   "cell_type": "code",
   "execution_count": 12,
   "metadata": {},
   "outputs": [
    {
     "name": "stdout",
     "output_type": "stream",
     "text": [
      "['apple', 'banana', 'cherry', 'orange']\n"
     ]
    }
   ],
   "source": [
    "\n",
    "# Use the append method to add \"orange\" to the fruits list. [\"apple\", \"banana\", \"cherry\"]\n",
    "\n",
    "fruitlist = [\"apple\", \"banana\", \"cherry\"]\n",
    "fruitlist.append(\"orange\")\n",
    "print(fruitlist)"
   ]
  },
  {
   "cell_type": "code",
   "execution_count": 16,
   "metadata": {},
   "outputs": [
    {
     "name": "stdout",
     "output_type": "stream",
     "text": [
      "['apple', 'lemon', 'banana', 'cherry']\n"
     ]
    }
   ],
   "source": [
    "# Use the insert method to add \"lemon\" as the second item in the fruits list. [\"apple\", \"banana\", \"cherry\"]\n",
    "fruitlist = [\"apple\", \"banana\", \"cherry\"]\n",
    "fruitlist.insert(1,\"lemon\")\n",
    "print(fruitlist)"
   ]
  },
  {
   "cell_type": "code",
   "execution_count": 18,
   "metadata": {},
   "outputs": [
    {
     "name": "stdout",
     "output_type": "stream",
     "text": [
      "['apple', 'cherry']\n"
     ]
    }
   ],
   "source": [
    "# Use the remove method to remove \"banana\" from the fruits list. [\"apple\", \"banana\", \"cherry\"]\n",
    "fruitlist = [\"apple\", \"banana\", \"cherry\"]\n",
    "fruitlist.remove(\"banana\")\n",
    "print(fruitlist)"
   ]
  },
  {
   "cell_type": "code",
   "execution_count": 24,
   "metadata": {},
   "outputs": [
    {
     "name": "stdout",
     "output_type": "stream",
     "text": [
      "['kiwi', 'melon']\n"
     ]
    }
   ],
   "source": [
    "# Use negative indexing to print the 3rd and 2nd to last items in the list. [\"apple\", \"banana\", \"cherry\", \"orange\", \"kiwi\", \"melon\", \"mango\"]\n",
    "fruitlist = [\"apple\", \"banana\", \"cherry\", \"orange\", \"kiwi\", \"melon\", \"mango\"]\n",
    "print(fruitlist[-3:-1])"
   ]
  },
  {
   "cell_type": "code",
   "execution_count": 5,
   "metadata": {},
   "outputs": [
    {
     "name": "stdout",
     "output_type": "stream",
     "text": [
      "['cherry', 'orange', 'kiwi']\n"
     ]
    }
   ],
   "source": [
    "# Use a range of indexes to print the third, fourth, and fifth item in the list. [\"apple\", \"banana\", \"cherry\", \"orange\", \"kiwi\", \"melon\", \"mango\"]\n",
    "fruitlist = [\"apple\", \"banana\", \"cherry\", \"orange\", \"kiwi\", \"melon\", \"mango\"]\n",
    "print(fruitlist[2:5])\n"
   ]
  },
  {
   "cell_type": "code",
   "execution_count": 6,
   "metadata": {},
   "outputs": [
    {
     "name": "stdout",
     "output_type": "stream",
     "text": [
      "7\n"
     ]
    }
   ],
   "source": [
    "\n",
    "# Use the correct syntax to print the number of items in the list. [\"apple\", \"banana\", \"cherry\", \"orange\", \"kiwi\", \"melon\", \"mango\"]\n",
    "fruitlist = [\"apple\", \"banana\", \"cherry\", \"orange\", \"kiwi\", \"melon\", \"mango\"]\n",
    "print(len(fruitlist))\n"
   ]
  },
  {
   "cell_type": "code",
   "execution_count": 20,
   "metadata": {},
   "outputs": [
    {
     "name": "stdout",
     "output_type": "stream",
     "text": [
      "None\n"
     ]
    }
   ],
   "source": [
    "\n",
    "# Use the correct syntax to sort this list in reverse order [\"apple\", \"banana\", \"cherry\", \"orange\", \"kiwi\", \"melon\", \"mango\"]\n",
    "fruitlist = [\"apple\", \"banana\", \"cherry\", \"orange\", \"kiwi\", \"melon\", \"mango\"]\n",
    "\n",
    "print(fruitlist.sort(key = len, reverse=True))\n"
   ]
  },
  {
   "attachments": {},
   "cell_type": "markdown",
   "metadata": {},
   "source": [
    "### What does one need to do to use a module?\n",
    "\n",
    "import the module\n"
   ]
  },
  {
   "attachments": {},
   "cell_type": "markdown",
   "metadata": {},
   "source": [
    "\n",
    "### Name a Module (not the DateTime Nodule) we looked at and write a line or 2 of code as an example using this module.\n",
    "\n",
    "random\n"
   ]
  },
  {
   "cell_type": "code",
   "execution_count": null,
   "metadata": {},
   "outputs": [],
   "source": [
    "\n",
    "import random as rand\n",
    "\n",
    "x = []\n",
    "\n",
    "for i in range(1,11):\n",
    "    a = rand.randint(1,3)\n",
    "    b = rand.randint(1,3)\n",
    "    c = rand.randint(1,3)\n",
    "\n",
    "    ab = None\n",
    "    cd = None\n",
    "    ef = None\n",
    "\n",
    "    if a == 1:\n",
    "        ab=\"abc\"\n",
    "    elif a==2:\n",
    "        cd=\"def\"\n",
    "    else:\n",
    "        ef=\"123\"    \n",
    "\n",
    "    if b == 1:\n",
    "        ab=\"jkl\"\n",
    "    elif b==2:\n",
    "        cd=\"mno\"\n",
    "    else:\n",
    "        ef=\"456\"  \n",
    "\n",
    "    if c == 1:\n",
    "        ab=\"stv\"\n",
    "    elif c==2:\n",
    "        cd=\"wxy\"\n",
    "    else:\n",
    "        ef=\"789\"    \n",
    "    fakeemail = f\"{ab}{cd}{ef}@gmail.com\"\n",
    "    \n",
    "    x.append(fakeemail)\n",
    "    \n",
    "# print(x)\n",
    "xlen = len(x)\n",
    "for i in range(xlen):\n",
    "    print(f\"{i}, {x[i]}\")"
   ]
  },
  {
   "attachments": {},
   "cell_type": "markdown",
   "metadata": {},
   "source": [
    "\n",
    "\n",
    "### What is a benefit of using Exception handling?\n",
    "\n",
    "to prevent program from crashing\n",
    "\n",
    "### what are the 4 components used for Python Exception Handling?\n",
    "\n",
    "try, except, else, finally\n",
    "\n",
    "### NumPy arrays are like what Python data type?\n",
    "\n",
    "list\n",
    "\n",
    "### What is one of the main benefits of using NumPy arrays.\n",
    "\n",
    "it occupy less memory than a traditional data type\n",
    "\n",
    "### What is one of the main requirements about the 'dtype' of NumPy arrays?\n",
    "\n",
    "number of floating points\n",
    "\n",
    "### Of the 10 uses of NumPy, name 2.\n",
    "\n",
    "multi-dimensional container of data\n",
    "\n",
    "high-level mathematical functions\n",
    "\n",
    "### Name one of the other libraries we'll use with NumPy?\n",
    "\n",
    "Pandas, Matplotlib, Tkinter\n",
    "\n",
    "### What is the shape of NumPy arrays?\n",
    "\n",
    "dimension(s)\n",
    "\n",
    "### What is a Tensor?\n",
    "\n",
    "an array with 3+ dimenions\n",
    "\n",
    "### Name a reason why it's better using NumPy for Data Analysis than using a Python List?\n",
    "\n",
    "it only stores one type of data type which makes it easier to troubleshoot\n",
    "\n",
    "### When creating an \"empty\" array, where do the elements come from?\n",
    "\n",
    "when creating an empty array, elements come from the random access memory\n"
   ]
  },
  {
   "cell_type": "code",
   "execution_count": null,
   "metadata": {},
   "outputs": [],
   "source": [
    "# Use the DateTime module to get Current Date and Time, and save it to a variable. Then extract just the Full month name from that variable.\n",
    "import datetime as dt\n",
    "\n",
    "currentTime = dt.datetime.now()\n",
    "\n",
    "print(currentTime.strftime(\"%B\"))"
   ]
  },
  {
   "cell_type": "code",
   "execution_count": 3,
   "metadata": {},
   "outputs": [
    {
     "name": "stdout",
     "output_type": "stream",
     "text": [
      "hi tyler! Happy friday!\n",
      "hi tyler! Happy Sunday!\n"
     ]
    }
   ],
   "source": [
    "# Write a simple function that takes 2 parameters -- a first name and a day name.\n",
    "# Set a default value for the day name of Sunday.\n",
    "# Have the function print out a greeting -- using the parameters -- that says something like \"Hi first-name! Happy day-name!\". Remember to use the variables in the greeting to replace first-name and day-name.\n",
    "# Invoke this function with 2 variables.\n",
    "# Invoke this function with 1 variable only.\n",
    "\n",
    "def simpfunc(fname, dname = \"Sunday\"):\n",
    "    \n",
    "    print(f\"hi {fname}! Happy {dname}!\")\n",
    "\n",
    "simpfunc(\"tyler\",\"friday\")\n",
    "simpfunc(\"tyler\")\n",
    "\n",
    "\n",
    "\n",
    "\n",
    "\n"
   ]
  },
  {
   "cell_type": "code",
   "execution_count": 40,
   "metadata": {},
   "outputs": [
    {
     "name": "stdout",
     "output_type": "stream",
     "text": [
      "your pay check is going to be: 276.0\n",
      "this program is complete\n"
     ]
    }
   ],
   "source": [
    "# Write a block of code to handle one of the most common Python exception errors. Select one of the common errors from the curriculum section on Python Exception handling. Have your code example uses the try,except, else, and finally components.\n",
    "\n",
    "hoursworked = input(\"please enter the number of hours worked:\")\n",
    "\n",
    "try:\n",
    "    hoursworked  = int(hoursworked)\n",
    "    hourlyRate = input(\"please enter the hourly rate:\")\n",
    "    try:\n",
    "        hourlyRate = float(hourlyRate)\n",
    "        if hoursworked > 40:\n",
    "            overtimeWorked = hoursworked - 40\n",
    "            overtimerate = hourlyRate * 1.5\n",
    "            overtimepay = hoursworked * hourlyRate + overtimerate * overtimeWorked\n",
    "            print(f\"your pay check is going to be: {overtimepay}\")\n",
    "        else:\n",
    "            pay = hoursworked * hourlyRate\n",
    "            print(f\"your pay check is going to be: {pay}\")\n",
    "    except: \n",
    "        print(\"please enter a dollar amount\")\n",
    "except:\n",
    "    print(\"please enter a whole number\")\n",
    "finally:\n",
    "    print(\"this program is complete\")\n",
    "\n"
   ]
  }
 ],
 "metadata": {
  "kernelspec": {
   "display_name": "Python 3",
   "language": "python",
   "name": "python3"
  },
  "language_info": {
   "codemirror_mode": {
    "name": "ipython",
    "version": 3
   },
   "file_extension": ".py",
   "mimetype": "text/x-python",
   "name": "python",
   "nbconvert_exporter": "python",
   "pygments_lexer": "ipython3",
   "version": "3.11.3"
  },
  "orig_nbformat": 4
 },
 "nbformat": 4,
 "nbformat_minor": 2
}
